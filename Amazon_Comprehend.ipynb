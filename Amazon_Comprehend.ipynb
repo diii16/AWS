{
 "cells": [
  {
   "cell_type": "code",
   "execution_count": null,
   "metadata": {},
   "outputs": [],
   "source": [
    "# getting started with Amazon Comprehend"
   ]
  },
  {
   "cell_type": "code",
   "execution_count": 1,
   "metadata": {},
   "outputs": [
    {
     "name": "stdout",
     "output_type": "stream",
     "text": [
      "Requirement already up-to-date: requests in c:\\users\\hedi\\anaconda3\\lib\\site-packages (2.21.0)\n",
      "Collecting boto3\n",
      "  Downloading https://files.pythonhosted.org/packages/22/7d/d558ed7f0d916f912cfab65104375e1d7e41972c97284afe43bb6a53dd3c/boto3-1.9.114-py2.py3-none-any.whl (128kB)\n",
      "Requirement already satisfied, skipping upgrade: idna<2.9,>=2.5 in c:\\users\\hedi\\anaconda3\\lib\\site-packages (from requests) (2.8)\n",
      "Requirement already satisfied, skipping upgrade: chardet<3.1.0,>=3.0.2 in c:\\users\\hedi\\anaconda3\\lib\\site-packages (from requests) (3.0.4)\n",
      "Requirement already satisfied, skipping upgrade: certifi>=2017.4.17 in c:\\users\\hedi\\anaconda3\\lib\\site-packages (from requests) (2018.11.29)\n",
      "Requirement already satisfied, skipping upgrade: urllib3<1.25,>=1.21.1 in c:\\users\\hedi\\anaconda3\\lib\\site-packages (from requests) (1.24.1)\n",
      "Requirement already satisfied, skipping upgrade: s3transfer<0.3.0,>=0.2.0 in c:\\users\\hedi\\appdata\\roaming\\python\\python37\\site-packages (from boto3) (0.2.0)\n",
      "Requirement already satisfied, skipping upgrade: jmespath<1.0.0,>=0.7.1 in c:\\users\\hedi\\appdata\\roaming\\python\\python37\\site-packages (from boto3) (0.9.4)\n",
      "Requirement already satisfied, skipping upgrade: botocore<1.13.0,>=1.12.114 in c:\\users\\hedi\\appdata\\roaming\\python\\python37\\site-packages (from boto3) (1.12.114)\n",
      "Requirement already satisfied, skipping upgrade: docutils>=0.10 in c:\\users\\hedi\\appdata\\roaming\\python\\python37\\site-packages (from botocore<1.13.0,>=1.12.114->boto3) (0.14)\n",
      "Requirement already satisfied, skipping upgrade: python-dateutil<3.0.0,>=2.1; python_version >= \"2.7\" in c:\\users\\hedi\\appdata\\roaming\\python\\python37\\site-packages (from botocore<1.13.0,>=1.12.114->boto3) (2.8.0)\n",
      "Requirement already satisfied, skipping upgrade: six>=1.5 in c:\\users\\hedi\\appdata\\roaming\\python\\python37\\site-packages (from python-dateutil<3.0.0,>=2.1; python_version >= \"2.7\"->botocore<1.13.0,>=1.12.114->boto3) (1.12.0)\n",
      "Installing collected packages: boto3\n",
      "  Found existing installation: boto3 1.9.113\n",
      "    Uninstalling boto3-1.9.113:\n",
      "      Successfully uninstalled boto3-1.9.113\n",
      "Successfully installed boto3-1.9.114\n"
     ]
    }
   ],
   "source": [
    "! pip install --upgrade requests boto3"
   ]
  },
  {
   "cell_type": "code",
   "execution_count": 2,
   "metadata": {},
   "outputs": [
    {
     "name": "stdout",
     "output_type": "stream",
     "text": [
      "Requirement already satisfied: simplejson in c:\\users\\hedi\\anaconda3\\lib\\site-packages (3.16.0)\n"
     ]
    }
   ],
   "source": [
    "!pip install simplejson"
   ]
  },
  {
   "cell_type": "code",
   "execution_count": 1,
   "metadata": {},
   "outputs": [],
   "source": [
    "import pandas as pd\n",
    "import boto3\n",
    "import json"
   ]
  },
  {
   "cell_type": "code",
   "execution_count": 4,
   "metadata": {
    "scrolled": true
   },
   "outputs": [],
   "source": [
    "#try Amazon Comprehend example\n",
    "comprehend = boto3.client(service_name='comprehend', region_name=\"us-east-1\")\n",
    "text = \"It is raining today in Seattle\""
   ]
  },
  {
   "cell_type": "code",
   "execution_count": 5,
   "metadata": {},
   "outputs": [
    {
     "name": "stdout",
     "output_type": "stream",
     "text": [
      "Calling DetectEntities\n",
      "{\n",
      "    \"Entities\": [\n",
      "        {\n",
      "            \"BeginOffset\": 14,\n",
      "            \"EndOffset\": 19,\n",
      "            \"Score\": 0.9784814119338989,\n",
      "            \"Text\": \"today\",\n",
      "            \"Type\": \"DATE\"\n",
      "        },\n",
      "        {\n",
      "            \"BeginOffset\": 23,\n",
      "            \"EndOffset\": 30,\n",
      "            \"Score\": 0.9954556226730347,\n",
      "            \"Text\": \"Seattle\",\n",
      "            \"Type\": \"LOCATION\"\n",
      "        }\n",
      "    ],\n",
      "    \"ResponseMetadata\": {\n",
      "        \"HTTPHeaders\": {\n",
      "            \"connection\": \"keep-alive\",\n",
      "            \"content-length\": \"200\",\n",
      "            \"content-type\": \"application/x-amz-json-1.1\",\n",
      "            \"date\": \"Wed, 13 Mar 2019 21:31:02 GMT\",\n",
      "            \"x-amzn-requestid\": \"4d53236a-45d7-11e9-99df-6f0b1325a78f\"\n",
      "        },\n",
      "        \"HTTPStatusCode\": 200,\n",
      "        \"RequestId\": \"4d53236a-45d7-11e9-99df-6f0b1325a78f\",\n",
      "        \"RetryAttempts\": 0\n",
      "    }\n",
      "}\n",
      "End of DetectEntities\n",
      "\n"
     ]
    }
   ],
   "source": [
    "# entity detection\n",
    "print('Calling DetectEntities')\n",
    "print(json.dumps(comprehend.detect_entities(Text=text, LanguageCode='en'), sort_keys=True, indent=4))\n",
    "print('End of DetectEntities\\n')"
   ]
  },
  {
   "cell_type": "code",
   "execution_count": 16,
   "metadata": {},
   "outputs": [
    {
     "name": "stdout",
     "output_type": "stream",
     "text": [
      "Calling DetectDominantLanguage\n",
      "{\n",
      "    \"Languages\": [\n",
      "        {\n",
      "            \"LanguageCode\": \"es\",\n",
      "            \"Score\": 0.9963551163673401\n",
      "        }\n",
      "    ],\n",
      "    \"ResponseMetadata\": {\n",
      "        \"HTTPHeaders\": {\n",
      "            \"connection\": \"keep-alive\",\n",
      "            \"content-length\": \"64\",\n",
      "            \"content-type\": \"application/x-amz-json-1.1\",\n",
      "            \"date\": \"Wed, 13 Mar 2019 19:59:23 GMT\",\n",
      "            \"x-amzn-requestid\": \"7f41cde8-45ca-11e9-a734-d92110f8b041\"\n",
      "        },\n",
      "        \"HTTPStatusCode\": 200,\n",
      "        \"RequestId\": \"7f41cde8-45ca-11e9-a734-d92110f8b041\",\n",
      "        \"RetryAttempts\": 0\n",
      "    }\n",
      "}\n",
      "End of DetectDominantLanguage\n",
      "\n"
     ]
    }
   ],
   "source": [
    "# language detection: Spanish\n",
    "text_1 = \"La situación no hace más que empeorar para las personas defenso\\\n",
    "ras de derechos humanos en Honduras tras el fraude electoral del pasado 26 de Noviembre de 2017.\"\n",
    "print('Calling DetectDominantLanguage')\n",
    "print(json.dumps(comprehend.detect_dominant_language(Text = text_1), sort_keys=True, indent=4))\n",
    "print(\"End of DetectDominantLanguage\\n\")"
   ]
  },
  {
   "cell_type": "code",
   "execution_count": 7,
   "metadata": {},
   "outputs": [],
   "source": [
    "# import a WSJ article: U.K. Lawmakers Vote Against Leaving EU Without a Deal\n",
    "# https://www.wsj.com/articles/u-k-lawmakers-rule-out-any-no-deal-brexit-11552504751\n",
    "\n",
    "path = \"/Users/Hedi/U.K.LawmakersVoteAgainstLeavingEUWithoutaDeal.txt\"\n",
    "doc1 = open(path, \"r\")\n",
    "output = doc1.readlines()"
   ]
  },
  {
   "cell_type": "code",
   "execution_count": 8,
   "metadata": {},
   "outputs": [
    {
     "data": {
      "text/plain": [
       "'While the vote makes a no-deal exit much less likely, technically that outcome can’t yet be entirely ruled out. Other EU countries must first agree to delay Britain’s departure beyond March 29, and then a deal must be reached and ratified before whatever new deadline is set.\\n'"
      ]
     },
     "execution_count": 8,
     "metadata": {},
     "output_type": "execute_result"
    }
   ],
   "source": [
    "# see part of the article\n",
    "output[10]"
   ]
  },
  {
   "cell_type": "code",
   "execution_count": 9,
   "metadata": {},
   "outputs": [
    {
     "name": "stdout",
     "output_type": "stream",
     "text": [
      "{\n",
      "    \"Entities\": [\n",
      "        {\n",
      "            \"BeginOffset\": 66,\n",
      "            \"EndOffset\": 70,\n",
      "            \"Score\": 0.9108875393867493,\n",
      "            \"Text\": \"U.K.\",\n",
      "            \"Type\": \"LOCATION\"\n",
      "        },\n",
      "        {\n",
      "            \"BeginOffset\": 241,\n",
      "            \"EndOffset\": 252,\n",
      "            \"Score\": 0.8404473066329956,\n",
      "            \"Text\": \"second time\",\n",
      "            \"Type\": \"QUANTITY\"\n",
      "        },\n",
      "        {\n",
      "            \"BeginOffset\": 286,\n",
      "            \"EndOffset\": 288,\n",
      "            \"Score\": 0.919706404209137,\n",
      "            \"Text\": \"EU\",\n",
      "            \"Type\": \"ORGANIZATION\"\n",
      "        }\n",
      "    ],\n",
      "    \"ResponseMetadata\": {\n",
      "        \"HTTPHeaders\": {\n",
      "            \"connection\": \"keep-alive\",\n",
      "            \"content-length\": \"305\",\n",
      "            \"content-type\": \"application/x-amz-json-1.1\",\n",
      "            \"date\": \"Wed, 13 Mar 2019 21:33:00 GMT\",\n",
      "            \"x-amzn-requestid\": \"9387b434-45d7-11e9-a302-4b1d8b8a9dca\"\n",
      "        },\n",
      "        \"HTTPStatusCode\": 200,\n",
      "        \"RequestId\": \"9387b434-45d7-11e9-a302-4b1d8b8a9dca\",\n",
      "        \"RetryAttempts\": 0\n",
      "    }\n",
      "}\n"
     ]
    }
   ],
   "source": [
    "#sentiment analysis\n",
    "print(json.dumps(comprehend.detect_entities(Text=output[2], LanguageCode='en'), sort_keys=True, indent=4))"
   ]
  },
  {
   "cell_type": "code",
   "execution_count": 17,
   "metadata": {},
   "outputs": [
    {
     "name": "stdout",
     "output_type": "stream",
     "text": [
      "{\n",
      "    \"ResponseMetadata\": {\n",
      "        \"HTTPHeaders\": {\n",
      "            \"connection\": \"keep-alive\",\n",
      "            \"content-length\": \"162\",\n",
      "            \"content-type\": \"application/x-amz-json-1.1\",\n",
      "            \"date\": \"Wed, 13 Mar 2019 20:01:57 GMT\",\n",
      "            \"x-amzn-requestid\": \"db3eff67-45ca-11e9-9aaf-f1d9d29915d7\"\n",
      "        },\n",
      "        \"HTTPStatusCode\": 200,\n",
      "        \"RequestId\": \"db3eff67-45ca-11e9-9aaf-f1d9d29915d7\",\n",
      "        \"RetryAttempts\": 0\n",
      "    },\n",
      "    \"Sentiment\": \"NEUTRAL\",\n",
      "    \"SentimentScore\": {\n",
      "        \"Mixed\": 0.0026960312388837337,\n",
      "        \"Negative\": 0.013566254638135433,\n",
      "        \"Neutral\": 0.9827920794487,\n",
      "        \"Positive\": 0.0009455975377932191\n",
      "    }\n",
      "}\n"
     ]
    }
   ],
   "source": [
    "#sentiment analysis\n",
    "print(json.dumps(comprehend.detect_sentiment(Text=output[2], LanguageCode='en'), sort_keys=True, indent=4))"
   ]
  },
  {
   "cell_type": "code",
   "execution_count": 14,
   "metadata": {},
   "outputs": [],
   "source": [
    "# analyze the whole article\n",
    "whole_doc = ', '.join(map(str, output))"
   ]
  },
  {
   "cell_type": "code",
   "execution_count": 15,
   "metadata": {},
   "outputs": [
    {
     "name": "stdout",
     "output_type": "stream",
     "text": [
      "{\n",
      "    \"ResponseMetadata\": {\n",
      "        \"HTTPHeaders\": {\n",
      "            \"connection\": \"keep-alive\",\n",
      "            \"content-length\": \"164\",\n",
      "            \"content-type\": \"application/x-amz-json-1.1\",\n",
      "            \"date\": \"Wed, 13 Mar 2019 19:54:27 GMT\",\n",
      "            \"x-amzn-requestid\": \"ce933e40-45c9-11e9-89c1-1bb0e911a101\"\n",
      "        },\n",
      "        \"HTTPStatusCode\": 200,\n",
      "        \"RequestId\": \"ce933e40-45c9-11e9-89c1-1bb0e911a101\",\n",
      "        \"RetryAttempts\": 0\n",
      "    },\n",
      "    \"Sentiment\": \"NEUTRAL\",\n",
      "    \"SentimentScore\": {\n",
      "        \"Mixed\": 0.003847701707854867,\n",
      "        \"Negative\": 0.007259076461195946,\n",
      "        \"Neutral\": 0.987248957157135,\n",
      "        \"Positive\": 0.0016442335909232497\n",
      "    }\n",
      "}\n"
     ]
    }
   ],
   "source": [
    "print(json.dumps(comprehend.detect_sentiment(Text=whole_doc, LanguageCode='en'), sort_keys=True, indent=4))"
   ]
  },
  {
   "cell_type": "code",
   "execution_count": null,
   "metadata": {},
   "outputs": [],
   "source": []
  }
 ],
 "metadata": {
  "kernelspec": {
   "display_name": "Python 3",
   "language": "python",
   "name": "python3"
  },
  "language_info": {
   "codemirror_mode": {
    "name": "ipython",
    "version": 3
   },
   "file_extension": ".py",
   "mimetype": "text/x-python",
   "name": "python",
   "nbconvert_exporter": "python",
   "pygments_lexer": "ipython3",
   "version": "3.7.1"
  }
 },
 "nbformat": 4,
 "nbformat_minor": 2
}
